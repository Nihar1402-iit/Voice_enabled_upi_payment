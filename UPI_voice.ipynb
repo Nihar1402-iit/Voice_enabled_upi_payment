{
  "nbformat": 4,
  "nbformat_minor": 0,
  "metadata": {
    "colab": {
      "provenance": []
    },
    "kernelspec": {
      "name": "python3",
      "display_name": "Python 3"
    },
    "language_info": {
      "name": "python"
    }
  },
  "cells": [
    {
      "cell_type": "markdown",
      "source": [
        "# Voice-Enabled Payment System Using Python\n"
      ],
      "metadata": {
        "id": "Mmfu_sQtoISO"
      }
    },
    {
      "cell_type": "markdown",
      "source": [
        "Overview\n",
        "1. Voice Input Handling: Capture user voice input using a microphone.\n",
        "2. Voice-to-Text Conversion: Convert the captured voice input into text using Automatic Speech Recognition (ASR).\n",
        "3. Intent Recognition: Use Natural Language Understanding (NLU) to determine the user's intent.\n",
        "4. Response Generation: Generate appropriate responses and convert them back to speech.\n",
        "5. Payment Processing: Integrate with a payment platform to handle transactions.\n",
        "6. Hardware Integration: Implement the system on a hardware platform like Raspberry Pi."
      ],
      "metadata": {
        "id": "-laXR_huoY2U"
      }
    },
    {
      "cell_type": "markdown",
      "source": [
        "## Setting Up Your Environment\n",
        "You'll need the following tools and libraries:\n",
        "\n",
        "- Python: The programming language used for this project.\n",
        "- Amazon Lex: For creating the voice chatbot.\n",
        "- Boto3: AWS SDK for Python to interact with Amazon Lex.\n",
        "- Requests: For making HTTP requests to the Eyowo API.\n",
        "- SpeechRecognition: For capturing voice input.\n",
        "- Pyttsx3: For text-to-speech conversion."
      ],
      "metadata": {
        "id": "7CCVkS6voi14"
      }
    },
    {
      "cell_type": "markdown",
      "source": [
        "##  Configuring Amazon Lex\n",
        "Create a chatbot using Amazon Lex with the following steps:\n",
        "\n",
        "Create a New Bot: Log in to the AWS Management Console and navigate to Amazon Lex. Create a new bot, configuring intents, utterances, and slots as required.\n",
        "Define Intents: Set up intents for various actions like checking balance and making payments.\n",
        "Integrate Lambda Functions: Create Lambda functions for handling intent logic and interacting with Eyowo's API."
      ],
      "metadata": {
        "id": "Qsgr05j9oxcg"
      }
    },
    {
      "cell_type": "markdown",
      "source": [
        "Example of a basic intent configuration for checking balance:\n",
        "\n"
      ],
      "metadata": {
        "id": "U49Yuc_jo4Vb"
      }
    },
    {
      "cell_type": "code",
      "source": [
        "\n",
        "{\n",
        "    \"name\": \"CheckBalance\",\n",
        "    \"sampleUtterances\": [\n",
        "        \"What is my balance?\",\n",
        "        \"Check my balance\",\n",
        "        \"Get my account balance\"\n",
        "    ],\n",
        "    \"slots\": [],\n",
        "    \"fulfillmentActivity\": {\n",
        "        \"type\": \"CodeHook\",\n",
        "        \"codeHook\": {\n",
        "            \"uri\": \"arn:aws:lambda:your-region:your-account-id:function:your-function\",\n",
        "            \"messageVersion\": \"1.0\"\n",
        "        }\n",
        "    }\n",
        "}\n"
      ],
      "metadata": {
        "id": "H8Q-Ze1botTr"
      },
      "execution_count": null,
      "outputs": []
    },
    {
      "cell_type": "markdown",
      "source": [
        " ## Capturing Voice Input"
      ],
      "metadata": {
        "id": "SlLaZ1ifpEyd"
      }
    },
    {
      "cell_type": "code",
      "source": [
        "import speech_recognition as sr\n",
        "\n",
        "def capture_voice():\n",
        "    recognizer = sr.Recognizer()\n",
        "    with sr.Microphone() as source:\n",
        "        print(\"Listening...\")\n",
        "        audio = recognizer.listen(source)\n",
        "    try:\n",
        "        text = recognizer.recognize_google(audio)\n",
        "        return text\n",
        "    except sr.UnknownValueError:\n",
        "        return \"Sorry, I did not understand that.\"\n",
        "    except sr.RequestError:\n",
        "        return \"Sorry, there was an error with the speech recognition service.\"\n"
      ],
      "metadata": {
        "id": "4zYg4WkZpH_t"
      },
      "execution_count": null,
      "outputs": []
    },
    {
      "cell_type": "markdown",
      "source": [
        "## Converting Text to Speech\n",
        "Use pyttsx3 to convert text responses from Amazon Lex back to speech:"
      ],
      "metadata": {
        "id": "rAzUFq-dpNUI"
      }
    },
    {
      "cell_type": "code",
      "source": [
        "import pyttsx3\n",
        "\n",
        "def speak_text(text):\n",
        "    engine = pyttsx3.init()\n",
        "    engine.say(text)\n",
        "    engine.runAndWait()\n"
      ],
      "metadata": {
        "id": "fN44fmdZpRG6"
      },
      "execution_count": null,
      "outputs": []
    },
    {
      "cell_type": "markdown",
      "source": [
        "## Handling Payment Transactions\n",
        "\n",
        "Integrating Google Pay (Client-Side Integration)\n",
        "For Google Pay, you'd typically handle payments through client-side integration. Here’s a high-level overview of how you might set up Google Pay for web applications:\n",
        "\n",
        "1. Add Google Pay API to Your Web Page:\n",
        "Include the Google Pay API JavaScript library in your HTML:"
      ],
      "metadata": {
        "id": "xuWE-ukbpmiE"
      }
    },
    {
      "cell_type": "code",
      "source": [
        "<script async src=\"https://pay.google.com/gp/p/js/pay.js\"></script>"
      ],
      "metadata": {
        "id": "nPr22HXJpmS7"
      },
      "execution_count": null,
      "outputs": []
    },
    {
      "cell_type": "markdown",
      "source": [
        "2. Configure Google Pay in JavaScript:Initialize Google Pay and create a payment request:"
      ],
      "metadata": {
        "id": "Ue10En_Pp99H"
      }
    },
    {
      "cell_type": "code",
      "source": [
        "<script>\n",
        "  const paymentsClient = new google.payments.api.PaymentsClient({\n",
        "    environment: 'TEST' // or 'PRODUCTION'\n",
        "  });\n",
        "\n",
        "  const paymentDataRequest = {\n",
        "    // Your Google Pay API configuration\n",
        "    apiVersion: 2,\n",
        "    apiVersionMinor: 0,\n",
        "    allowedPaymentMethods: [\n",
        "      {\n",
        "        type: 'CARD',\n",
        "        parameters: {\n",
        "          allowedAuthMethods: ['PAN_ONLY', 'CRYPTOGRAM_3DS'],\n",
        "          allowedNetworks: ['AMEX', 'DISCOVER', 'MASTERCARD', 'VISA']\n",
        "        },\n",
        "        tokenizationSpecification: {\n",
        "          type: 'PAYMENT_GATEWAY',\n",
        "          parameters: {\n",
        "            gateway: 'example',\n",
        "            gatewayMerchantId: 'exampleGatewayMerchantId'\n",
        "          }\n",
        "        }\n",
        "      }\n",
        "    ],\n",
        "    merchantInfo: {\n",
        "      merchantId: 'exampleMerchantId',\n",
        "      merchantName: 'Example Merchant'\n",
        "    },\n",
        "    transactionInfo: {\n",
        "      totalPriceStatus: 'FINAL',\n",
        "      totalPriceLabel: 'Total',\n",
        "      totalPrice: '100.00',\n",
        "      currencyCode: 'USD',\n",
        "      countryCode: 'US'\n",
        "    },\n",
        "    shippingAddressRequired: true\n",
        "  };\n",
        "\n",
        "  function onGooglePayButtonClicked() {\n",
        "    paymentsClient.loadPaymentData(paymentDataRequest)\n",
        "      .then(function(paymentData) {\n",
        "        // Handle the response\n",
        "        console.log(paymentData);\n",
        "      })\n",
        "      .catch(function(err) {\n",
        "        console.error('Error:', err);\n",
        "      });\n",
        "  }\n",
        "</script>\n"
      ],
      "metadata": {
        "id": "Z_8OzAFSqC5Q"
      },
      "execution_count": null,
      "outputs": []
    },
    {
      "cell_type": "markdown",
      "source": [
        "3. Add a Google Pay Button:\n",
        "Add a button to your HTML that triggers the payment:"
      ],
      "metadata": {
        "id": "ll9t0aENqGjc"
      }
    },
    {
      "cell_type": "code",
      "source": [
        "<button id=\"google-pay-button\" onclick=\"onGooglePayButtonClicked()\">\n",
        "  Pay with Google Pay\n",
        "</button>"
      ],
      "metadata": {
        "id": "iR08EehPqJIw"
      },
      "execution_count": null,
      "outputs": []
    },
    {
      "cell_type": "markdown",
      "source": [
        "General Steps for Using Any Payment Service API\n",
        "1. Obtain API Credentials:\n",
        "- Register with the payment service and obtain necessary API credentials (API key, token, etc.).\n",
        "2. Integrate Payment API:\n",
        "- Use the service’s API documentation to integrate payment functionality into your application.\n",
        "\n",
        "3. Handle Payment Responses:\n",
        "- Process the response from the payment API to confirm the transaction and handle any errors.\n",
        "\n",
        "4. Test Thoroughly:\n",
        "- Test the payment integration in a sandbox or test environment provided by the payment service before going live.\n",
        "\n",
        "\n",
        "### References\n",
        "For detailed documentation and integration guides, refer to the respective payment service provider’s API documentation:\n",
        "\n",
        "Google Pay API Documentation: https://developers.google.com/pay/api/web/overview"
      ],
      "metadata": {
        "id": "_C_JhFLfqQpE"
      }
    },
    {
      "cell_type": "markdown",
      "source": [
        "Or Integrate with the Eyowo API to handle payments. First, obtain your Eyowo API credentials and use them to make HTTP requests:"
      ],
      "metadata": {
        "id": "gFQUM45nq7DH"
      }
    },
    {
      "cell_type": "code",
      "source": [
        "import requests\n",
        "\n",
        "def make_payment(phone_number, amount, pin):\n",
        "    url = \"https://api.eyowo.com/payment\"\n",
        "    payload = {\n",
        "        'phone_number': phone_number,\n",
        "        'amount': amount,\n",
        "        'pin': pin\n",
        "    }\n",
        "    response = requests.post(url, json=payload)\n",
        "    return response.json()\n"
      ],
      "metadata": {
        "id": "EOUFGH51qxeJ"
      },
      "execution_count": null,
      "outputs": []
    },
    {
      "cell_type": "markdown",
      "source": [
        "#3 Integrating Hardware: Raspberry Pi\n",
        "\n",
        "For a complete hardware-based implementation, you can use a Raspberry Pi with the following setup:\n",
        "\n",
        "1. Install Raspbian OS on the Raspberry Pi.\n",
        "2. Connect USB Microphone and Speakers: Use the USB microphone for input and speakers for output.\n",
        "3. Run Python Script: Execute the Python script to capture voice input, interact with Amazon Lex, and handle payments.\n",
        "4. Case Design: Design and 3D print a case to house the Raspberry Pi, microphone, and speakers.\n",
        "\n",
        "### References\n",
        "1. Isaac Samuel, Fiyinfoba A. Ogunkeye. \"Development of a Voice Chatbot for Payment Using Amazon Lex Service with ‘Eyowo’ as the Payment Platform,\" Department of Electrical and Information Engineering, Covenant University, Ota, Nigeria."
      ],
      "metadata": {
        "id": "GPbsJa9wrBWz"
      }
    },
    {
      "cell_type": "markdown",
      "source": [
        "This is just an attempt to help you through how would a voice assissted payment system look like and could be made. There may be several other methods but I came up with this floorplan after my research\n"
      ],
      "metadata": {
        "id": "l3nH3QH9rXPu"
      }
    }
  ]
}